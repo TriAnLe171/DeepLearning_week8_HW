{
  "cells": [
    {
      "cell_type": "markdown",
      "metadata": {
        "id": "cW-EyI5Lxpqi"
      },
      "source": [
        "# Copyright\n",
        "\n",
        "<PRE>\n",
        "Copyright (c) Bálint Gyires-Tóth - All Rights Reserved\n",
        "You may use and modify this code for research and development purpuses.\n",
        "Using this code for educational purposes (self-paced or instructor led) without the permission of the author is prohibited.\n",
        "</PRE>"
      ]
    },
    {
      "cell_type": "markdown",
      "metadata": {
        "id": "3EX4cCa4WKJu"
      },
      "source": [
        "# Convolutional Neural Network exercise\n",
        "\n",
        "In this notebook, you will build a convolutional neural network, which offers superior results over the previous MLP solution. Additionally, you will perform a more detailed evaluation."
      ]
    },
    {
      "cell_type": "code",
      "execution_count": 1,
      "metadata": {
        "id": "GdCMhy4HA2qd"
      },
      "outputs": [],
      "source": [
        "# imports\n",
        "from tensorflow.keras.datasets import cifar10\n",
        "from tensorflow.keras.utils import to_categorical\n",
        "import numpy as np\n",
        "import matplotlib.pyplot as plt\n",
        "from tensorflow.keras.models import Sequential\n",
        "from tensorflow.keras.layers import Dense, Conv2D, MaxPool2D, Flatten, Dropout, BatchNormalization\n",
        "from tensorflow.keras.initializers import HeNormal\n",
        "from tensorflow.keras.callbacks import EarlyStopping, ReduceLROnPlateau"
      ]
    },
    {
      "cell_type": "markdown",
      "metadata": {
        "id": "yY9fztIeWIKt"
      },
      "source": [
        "# 1. Data\n",
        "The dataset we will use is the well-known CIFAR10 (Canadian Institute For Advanced Research). Explore the details on the Keras website first: https://keras.io/api/datasets/cifar10/\n",
        "\n",
        "There isn't much difference between the data preprocessing part and the one we did before. The only difference is that we don't have to reshape images into vectors, but we are working with a 4 dimensional data structure, where the dimensions are: batch, X, Y, and color channels.\n",
        "\n",
        "In the event that anything is not clear regarding the data preparation part, please check the previous CIFAR10 notebook."
      ]
    },
    {
      "cell_type": "code",
      "execution_count": 2,
      "metadata": {
        "colab": {
          "base_uri": "https://localhost:8080/"
        },
        "id": "bez7q0eiWQCK",
        "outputId": "b0801fa0-211d-4a42-f6c9-1e4615b01ecc"
      },
      "outputs": [],
      "source": [
        "(X_train, Y_train), (X_test, Y_test) = cifar10.load_data()"
      ]
    },
    {
      "cell_type": "code",
      "execution_count": 3,
      "metadata": {
        "id": "vukOcBM0XzSj"
      },
      "outputs": [],
      "source": [
        "# it is in int8 format, the neural network requires float32\n",
        "X_train = X_train.astype(\"float32\")\n",
        "X_test = X_test.astype(\"float32\")"
      ]
    },
    {
      "cell_type": "code",
      "execution_count": 4,
      "metadata": {
        "id": "mRwuWxxIxLgN"
      },
      "outputs": [],
      "source": [
        "train_ratio  = 0.8\n",
        "train_length = X_train.shape[0]\n",
        "train_split  = int(train_ratio*train_length)\n",
        "X_valid, Y_valid = X_train[train_split:], Y_train[train_split:]\n",
        "X_train, Y_train = X_train[:train_split], Y_train[:train_split]"
      ]
    },
    {
      "cell_type": "code",
      "execution_count": 5,
      "metadata": {
        "id": "2ESLP1EIyB2J"
      },
      "outputs": [],
      "source": [
        "mean = X_train.mean(axis=0)\n",
        "std  = X_train.std(axis=0)\n",
        "\n",
        "X_train = (X_train-mean)/std\n",
        "X_valid = (X_valid-mean)/std\n",
        "X_test  = (X_test-mean)/std"
      ]
    },
    {
      "cell_type": "code",
      "execution_count": 6,
      "metadata": {
        "id": "xwZ4OJ6I8lba"
      },
      "outputs": [],
      "source": [
        "nb_classes = len(np.unique(Y_train))\n",
        "Y_train = to_categorical(Y_train, nb_classes)\n",
        "Y_valid = to_categorical(Y_valid, nb_classes)\n",
        "Y_test  = to_categorical(Y_test, nb_classes)"
      ]
    },
    {
      "cell_type": "code",
      "execution_count": 7,
      "metadata": {
        "colab": {
          "base_uri": "https://localhost:8080/"
        },
        "id": "O_jdJVcvX0vi",
        "outputId": "bf51ff29-52b9-4d7f-defd-ee4725268217"
      },
      "outputs": [
        {
          "name": "stdout",
          "output_type": "stream",
          "text": [
            "Shapes of the training, validation and test input data: (40000, 32, 32, 3) (10000, 32, 32, 3) (10000, 32, 32, 3)\n",
            "Shapes of the training, validation and test output data: (40000, 10) (10000, 10) (10000, 10)\n",
            "Mean values of the training, validation and test input data: 2.2788842e-09 0.0023437198 0.013331206\n",
            "Standard deviation of the training, validation and test input data: 1.0000023 0.9965626 0.99783075\n"
          ]
        }
      ],
      "source": [
        "print(\"Shapes of the training, validation and test input data:\", X_train.shape, X_valid.shape, X_test.shape)\n",
        "print(\"Shapes of the training, validation and test output data:\", Y_train.shape, Y_valid.shape, Y_test.shape)\n",
        "print(\"Mean values of the training, validation and test input data:\", X_train.mean(), X_valid.mean(), X_test.mean())\n",
        "print(\"Standard deviation of the training, validation and test input data:\", X_train.std(), X_valid.std(), X_test.std())"
      ]
    },
    {
      "cell_type": "markdown",
      "metadata": {
        "id": "cJ14oyZExpqj"
      },
      "source": [
        "# 2. Exercise: training"
      ]
    },
    {
      "cell_type": "markdown",
      "metadata": {
        "id": "j1tGVPdD-pp3"
      },
      "source": [
        "Create and train a convolutional neural network with the following requirements:\n",
        "* apply early stopping with patience=5 and monitor the validation accuracy, don't forget to load back the best weights after early stopping\n",
        "* the number of trainable parameters is lower than 200.000\n",
        "* the validation accuracy must be higher than 72%\n",
        "\n",
        "Hints:\n",
        "* you can always inspect the number of trainable parameters per layer with model.summary()\n",
        "* usually the most trainable parameters are between the last convolutional layer and the next dense layer -- so you should have a reasonable output size at the last convolutional layer\n",
        "* regularization helps (e.g. DropOut and/or BatchNormalization)\n",
        "* use the right activation function at the output layer and the corresponding loss function\n",
        "* for the chosen activation functions, please use the appropriate initialization method\n",
        "* you can match the dimension of the last conv/pooling layer to the next dense layer with e.g. Flatten()\n",
        "* ADAM optimizer is a reasonable choice\n",
        "* don't forget to turn on GPU support in Colab, otherwise, it would be quite slow to train the networks\n",
        "\n"
      ]
    },
    {
      "cell_type": "code",
      "execution_count": 8,
      "metadata": {
        "id": "5dBQxJHIHrbd"
      },
      "outputs": [],
      "source": [
        "# Early stopping setup\n",
        "es = EarlyStopping(monitor='val_accuracy', verbose = 1, patience=5, restore_best_weights=True)\n",
        "lr_scheduler = ReduceLROnPlateau(monitor='val_loss', factor=0.5, patience=3, min_lr=1e-6)"
      ]
    },
    {
      "cell_type": "code",
      "execution_count": 9,
      "metadata": {
        "id": "PuxHOqLt-3Nd"
      },
      "outputs": [
        {
          "name": "stderr",
          "output_type": "stream",
          "text": [
            "2025-04-13 19:19:30.420469: I metal_plugin/src/device/metal_device.cc:1154] Metal device set to: Apple M1 Pro\n",
            "2025-04-13 19:19:30.420498: I metal_plugin/src/device/metal_device.cc:296] systemMemory: 16.00 GB\n",
            "2025-04-13 19:19:30.420512: I metal_plugin/src/device/metal_device.cc:313] maxCacheSize: 5.33 GB\n",
            "2025-04-13 19:19:30.420541: I tensorflow/core/common_runtime/pluggable_device/pluggable_device_factory.cc:303] Could not identify NUMA node of platform GPU ID 0, defaulting to 0. Your kernel may not have been built with NUMA support.\n",
            "2025-04-13 19:19:30.420555: I tensorflow/core/common_runtime/pluggable_device/pluggable_device_factory.cc:269] Created TensorFlow device (/job:localhost/replica:0/task:0/device:GPU:0 with 0 MB memory) -> physical PluggableDevice (device: 0, name: METAL, pci bus id: <undefined>)\n",
            "WARNING:absl:At this time, the v2.11+ optimizer `tf.keras.optimizers.Adam` runs slowly on M1/M2 Macs, please use the legacy Keras optimizer instead, located at `tf.keras.optimizers.legacy.Adam`.\n",
            "WARNING:absl:There is a known slowdown when using v2.11+ Keras optimizers on M1/M2 Macs. Falling back to the legacy Keras optimizer, i.e., `tf.keras.optimizers.legacy.Adam`.\n"
          ]
        }
      ],
      "source": [
        "# Model definition\n",
        "model = Sequential([\n",
        "    Conv2D(64, (3, 3), activation='relu', kernel_initializer=HeNormal(), input_shape=(32, 32, 3)),\n",
        "    BatchNormalization(),\n",
        "    MaxPool2D((2, 2)),\n",
        "    Dropout(0.3),\n",
        "    Conv2D(64, (3, 3), activation='relu', kernel_initializer=HeNormal()),\n",
        "    BatchNormalization(),\n",
        "    MaxPool2D((2, 2)),\n",
        "    Dropout(0.3),\n",
        "    Flatten(),\n",
        "    Dense(64, activation='relu', kernel_initializer=HeNormal()),\n",
        "    BatchNormalization(),\n",
        "    Dropout(0.3),\n",
        "    Dense(nb_classes, activation='softmax')\n",
        "])\n",
        "\n",
        "# Compile the model\n",
        "from tensorflow.keras.optimizers import Adam\n",
        "optimizer = Adam(learning_rate=0.0005)\n",
        "model.compile(optimizer=optimizer, loss='categorical_crossentropy', metrics=['accuracy'])"
      ]
    },
    {
      "cell_type": "code",
      "execution_count": 10,
      "metadata": {
        "id": "5eomQw8uE9Ix"
      },
      "outputs": [
        {
          "name": "stdout",
          "output_type": "stream",
          "text": [
            "Model: \"sequential\"\n",
            "_________________________________________________________________\n",
            " Layer (type)                Output Shape              Param #   \n",
            "=================================================================\n",
            " conv2d (Conv2D)             (None, 30, 30, 64)        1792      \n",
            "                                                                 \n",
            " batch_normalization (Batch  (None, 30, 30, 64)        256       \n",
            " Normalization)                                                  \n",
            "                                                                 \n",
            " max_pooling2d (MaxPooling2  (None, 15, 15, 64)        0         \n",
            " D)                                                              \n",
            "                                                                 \n",
            " dropout (Dropout)           (None, 15, 15, 64)        0         \n",
            "                                                                 \n",
            " conv2d_1 (Conv2D)           (None, 13, 13, 64)        36928     \n",
            "                                                                 \n",
            " batch_normalization_1 (Bat  (None, 13, 13, 64)        256       \n",
            " chNormalization)                                                \n",
            "                                                                 \n",
            " max_pooling2d_1 (MaxPoolin  (None, 6, 6, 64)          0         \n",
            " g2D)                                                            \n",
            "                                                                 \n",
            " dropout_1 (Dropout)         (None, 6, 6, 64)          0         \n",
            "                                                                 \n",
            " flatten (Flatten)           (None, 2304)              0         \n",
            "                                                                 \n",
            " dense (Dense)               (None, 64)                147520    \n",
            "                                                                 \n",
            " batch_normalization_2 (Bat  (None, 64)                256       \n",
            " chNormalization)                                                \n",
            "                                                                 \n",
            " dropout_2 (Dropout)         (None, 64)                0         \n",
            "                                                                 \n",
            " dense_1 (Dense)             (None, 10)                650       \n",
            "                                                                 \n",
            "=================================================================\n",
            "Total params: 187658 (733.04 KB)\n",
            "Trainable params: 187274 (731.54 KB)\n",
            "Non-trainable params: 384 (1.50 KB)\n",
            "_________________________________________________________________\n"
          ]
        }
      ],
      "source": [
        "model.summary()"
      ]
    },
    {
      "cell_type": "markdown",
      "metadata": {
        "id": "8tIbIIeTEI41"
      },
      "source": [
        "Please, check the number of trainable paramers:"
      ]
    },
    {
      "cell_type": "code",
      "execution_count": 11,
      "metadata": {
        "id": "xdBAG7EJETlX"
      },
      "outputs": [
        {
          "name": "stdout",
          "output_type": "stream",
          "text": [
            "#trainable parameters: 187658\n"
          ]
        }
      ],
      "source": [
        "print(\"#trainable parameters:\",model.count_params())"
      ]
    },
    {
      "cell_type": "code",
      "execution_count": 12,
      "metadata": {
        "id": "u8tFNCNVHyt9"
      },
      "outputs": [
        {
          "name": "stdout",
          "output_type": "stream",
          "text": [
            "Epoch 1/50\n"
          ]
        },
        {
          "name": "stderr",
          "output_type": "stream",
          "text": [
            "2025-04-13 19:19:31.585526: I tensorflow/core/grappler/optimizers/custom_graph_optimizer_registry.cc:114] Plugin optimizer for device_type GPU is enabled.\n"
          ]
        },
        {
          "name": "stdout",
          "output_type": "stream",
          "text": [
            "622/625 [============================>.] - ETA: 0s - loss: 1.7055 - accuracy: 0.4025"
          ]
        },
        {
          "name": "stderr",
          "output_type": "stream",
          "text": [
            "2025-04-13 19:19:44.246637: I tensorflow/core/grappler/optimizers/custom_graph_optimizer_registry.cc:114] Plugin optimizer for device_type GPU is enabled.\n"
          ]
        },
        {
          "name": "stdout",
          "output_type": "stream",
          "text": [
            "625/625 [==============================] - 15s 22ms/step - loss: 1.7045 - accuracy: 0.4029 - val_loss: 1.4301 - val_accuracy: 0.4731 - lr: 5.0000e-04\n",
            "Epoch 2/50\n",
            "625/625 [==============================] - 13s 21ms/step - loss: 1.3342 - accuracy: 0.5250 - val_loss: 1.2334 - val_accuracy: 0.5601 - lr: 5.0000e-04\n",
            "Epoch 3/50\n",
            "625/625 [==============================] - 15s 23ms/step - loss: 1.1971 - accuracy: 0.5780 - val_loss: 1.1359 - val_accuracy: 0.5964 - lr: 5.0000e-04\n",
            "Epoch 4/50\n",
            "625/625 [==============================] - 15s 23ms/step - loss: 1.1243 - accuracy: 0.6061 - val_loss: 1.0534 - val_accuracy: 0.6271 - lr: 5.0000e-04\n",
            "Epoch 5/50\n",
            "625/625 [==============================] - 13s 21ms/step - loss: 1.0548 - accuracy: 0.6325 - val_loss: 1.0049 - val_accuracy: 0.6497 - lr: 5.0000e-04\n",
            "Epoch 6/50\n",
            "625/625 [==============================] - 16s 26ms/step - loss: 1.0209 - accuracy: 0.6438 - val_loss: 0.9941 - val_accuracy: 0.6554 - lr: 5.0000e-04\n",
            "Epoch 7/50\n",
            "625/625 [==============================] - 15s 24ms/step - loss: 0.9874 - accuracy: 0.6543 - val_loss: 0.9532 - val_accuracy: 0.6689 - lr: 5.0000e-04\n",
            "Epoch 8/50\n",
            "625/625 [==============================] - 16s 25ms/step - loss: 0.9609 - accuracy: 0.6657 - val_loss: 0.9166 - val_accuracy: 0.6860 - lr: 5.0000e-04\n",
            "Epoch 9/50\n",
            "625/625 [==============================] - 15s 24ms/step - loss: 0.9387 - accuracy: 0.6735 - val_loss: 0.8925 - val_accuracy: 0.6962 - lr: 5.0000e-04\n",
            "Epoch 10/50\n",
            "625/625 [==============================] - 15s 24ms/step - loss: 0.9220 - accuracy: 0.6832 - val_loss: 0.8782 - val_accuracy: 0.6994 - lr: 5.0000e-04\n",
            "Epoch 11/50\n",
            "625/625 [==============================] - 17s 27ms/step - loss: 0.8995 - accuracy: 0.6884 - val_loss: 0.8791 - val_accuracy: 0.7003 - lr: 5.0000e-04\n",
            "Epoch 12/50\n",
            "625/625 [==============================] - 15s 24ms/step - loss: 0.8935 - accuracy: 0.6936 - val_loss: 0.8713 - val_accuracy: 0.7027 - lr: 5.0000e-04\n",
            "Epoch 13/50\n",
            "625/625 [==============================] - 15s 24ms/step - loss: 0.8755 - accuracy: 0.6953 - val_loss: 0.8478 - val_accuracy: 0.7083 - lr: 5.0000e-04\n",
            "Epoch 14/50\n",
            "625/625 [==============================] - 15s 24ms/step - loss: 0.8601 - accuracy: 0.7036 - val_loss: 0.8319 - val_accuracy: 0.7194 - lr: 5.0000e-04\n",
            "Epoch 15/50\n",
            "625/625 [==============================] - 15s 25ms/step - loss: 0.8556 - accuracy: 0.7061 - val_loss: 0.8197 - val_accuracy: 0.7215 - lr: 5.0000e-04\n",
            "Epoch 16/50\n",
            "625/625 [==============================] - 15s 25ms/step - loss: 0.8401 - accuracy: 0.7121 - val_loss: 0.8067 - val_accuracy: 0.7296 - lr: 5.0000e-04\n",
            "Epoch 17/50\n",
            "625/625 [==============================] - 17s 27ms/step - loss: 0.8372 - accuracy: 0.7152 - val_loss: 0.8070 - val_accuracy: 0.7279 - lr: 5.0000e-04\n",
            "Epoch 18/50\n",
            "625/625 [==============================] - 17s 27ms/step - loss: 0.8320 - accuracy: 0.7149 - val_loss: 0.8105 - val_accuracy: 0.7248 - lr: 5.0000e-04\n",
            "Epoch 19/50\n",
            "625/625 [==============================] - 15s 24ms/step - loss: 0.8108 - accuracy: 0.7229 - val_loss: 0.7988 - val_accuracy: 0.7322 - lr: 5.0000e-04\n",
            "Epoch 20/50\n",
            "625/625 [==============================] - 15s 24ms/step - loss: 0.8047 - accuracy: 0.7253 - val_loss: 0.8031 - val_accuracy: 0.7284 - lr: 5.0000e-04\n",
            "Epoch 21/50\n",
            "625/625 [==============================] - 16s 26ms/step - loss: 0.7993 - accuracy: 0.7280 - val_loss: 0.7882 - val_accuracy: 0.7331 - lr: 5.0000e-04\n",
            "Epoch 22/50\n",
            "625/625 [==============================] - 16s 25ms/step - loss: 0.7953 - accuracy: 0.7272 - val_loss: 0.8063 - val_accuracy: 0.7227 - lr: 5.0000e-04\n",
            "Epoch 23/50\n",
            "625/625 [==============================] - 16s 25ms/step - loss: 0.7897 - accuracy: 0.7287 - val_loss: 0.7814 - val_accuracy: 0.7348 - lr: 5.0000e-04\n",
            "Epoch 24/50\n",
            "625/625 [==============================] - 17s 27ms/step - loss: 0.7882 - accuracy: 0.7292 - val_loss: 0.7936 - val_accuracy: 0.7269 - lr: 5.0000e-04\n",
            "Epoch 25/50\n",
            "625/625 [==============================] - 16s 26ms/step - loss: 0.7809 - accuracy: 0.7308 - val_loss: 0.7861 - val_accuracy: 0.7341 - lr: 5.0000e-04\n",
            "Epoch 26/50\n",
            "625/625 [==============================] - 17s 27ms/step - loss: 0.7783 - accuracy: 0.7357 - val_loss: 0.7821 - val_accuracy: 0.7319 - lr: 5.0000e-04\n",
            "Epoch 27/50\n",
            "625/625 [==============================] - 16s 25ms/step - loss: 0.7599 - accuracy: 0.7403 - val_loss: 0.7678 - val_accuracy: 0.7378 - lr: 2.5000e-04\n",
            "Epoch 28/50\n",
            "625/625 [==============================] - 15s 24ms/step - loss: 0.7528 - accuracy: 0.7418 - val_loss: 0.7637 - val_accuracy: 0.7412 - lr: 2.5000e-04\n",
            "Epoch 29/50\n",
            "625/625 [==============================] - 15s 25ms/step - loss: 0.7486 - accuracy: 0.7425 - val_loss: 0.7638 - val_accuracy: 0.7406 - lr: 2.5000e-04\n",
            "Epoch 30/50\n",
            "625/625 [==============================] - 16s 25ms/step - loss: 0.7431 - accuracy: 0.7452 - val_loss: 0.7606 - val_accuracy: 0.7384 - lr: 2.5000e-04\n",
            "Epoch 31/50\n",
            "625/625 [==============================] - 15s 25ms/step - loss: 0.7465 - accuracy: 0.7441 - val_loss: 0.7569 - val_accuracy: 0.7444 - lr: 2.5000e-04\n",
            "Epoch 32/50\n",
            "625/625 [==============================] - 15s 24ms/step - loss: 0.7401 - accuracy: 0.7460 - val_loss: 0.7584 - val_accuracy: 0.7410 - lr: 2.5000e-04\n",
            "Epoch 33/50\n",
            "625/625 [==============================] - 15s 23ms/step - loss: 0.7359 - accuracy: 0.7471 - val_loss: 0.7507 - val_accuracy: 0.7438 - lr: 2.5000e-04\n",
            "Epoch 34/50\n",
            "625/625 [==============================] - 15s 24ms/step - loss: 0.7333 - accuracy: 0.7493 - val_loss: 0.7563 - val_accuracy: 0.7392 - lr: 2.5000e-04\n",
            "Epoch 35/50\n",
            "625/625 [==============================] - 16s 25ms/step - loss: 0.7332 - accuracy: 0.7495 - val_loss: 0.7584 - val_accuracy: 0.7392 - lr: 2.5000e-04\n",
            "Epoch 36/50\n",
            "624/625 [============================>.] - ETA: 0s - loss: 0.7401 - accuracy: 0.7453Restoring model weights from the end of the best epoch: 31.\n",
            "625/625 [==============================] - 16s 26ms/step - loss: 0.7403 - accuracy: 0.7452 - val_loss: 0.7600 - val_accuracy: 0.7438 - lr: 2.5000e-04\n",
            "Epoch 36: early stopping\n"
          ]
        }
      ],
      "source": [
        "# Training the model\n",
        "network_history = model.fit(\n",
        "    X_train, Y_train,\n",
        "    validation_data=(X_valid, Y_valid),\n",
        "    epochs=50,\n",
        "    batch_size=64,\n",
        "    callbacks=[es, lr_scheduler]\n",
        ")"
      ]
    },
    {
      "cell_type": "code",
      "execution_count": 13,
      "metadata": {},
      "outputs": [
        {
          "name": "stdout",
          "output_type": "stream",
          "text": [
            "Validation accuracy: 0.7437999844551086\n"
          ]
        }
      ],
      "source": [
        "# print validation accuracy\n",
        "print(\"Validation accuracy:\", network_history.history[\"val_accuracy\"][-1])"
      ]
    },
    {
      "cell_type": "markdown",
      "metadata": {
        "id": "2FtKp-a2-A9m"
      },
      "source": [
        "# 3. Exercise: evaluation on test data\n",
        "You will evaluate the classification of the test data using the common metrics and the confusion matrix in this section.\n",
        "\n",
        "\n",
        "As a first stes, let's run the predictions and convert the predicted softmax outputs to dense labels. The one-hot encoded labels are also converted back to dense labels, as they are required for the evaluation functions."
      ]
    },
    {
      "cell_type": "code",
      "execution_count": 14,
      "metadata": {
        "id": "EcWAqwlDMq3y"
      },
      "outputs": [
        {
          "name": "stdout",
          "output_type": "stream",
          "text": [
            "  6/313 [..............................] - ETA: 3s  "
          ]
        },
        {
          "name": "stderr",
          "output_type": "stream",
          "text": [
            "2025-04-13 19:28:46.443817: I tensorflow/core/grappler/optimizers/custom_graph_optimizer_registry.cc:114] Plugin optimizer for device_type GPU is enabled.\n"
          ]
        },
        {
          "name": "stdout",
          "output_type": "stream",
          "text": [
            "313/313 [==============================] - 2s 4ms/step\n"
          ]
        }
      ],
      "source": [
        "probas = model.predict(X_test)\n",
        "preds  = np.argmax(probas,axis=1)\n",
        "Y_test_dense = np.argmax(Y_test, axis=1) # get the original dense labels of the test data"
      ]
    },
    {
      "cell_type": "markdown",
      "metadata": {
        "id": "RWJ-PH_iMs9K"
      },
      "source": [
        "## 3.1. Exercise: Metrics\n",
        "please review the common classification metrics (accuracy, precision, recall, F1) for the complete model (not per class).\n",
        "\n",
        "Hints:\n",
        "* use macro averaging\n",
        "* you have to import the right functions from [sklearn.metrics](https://scikit-learn.org/stable/modules/model_evaluation.html)\n"
      ]
    },
    {
      "cell_type": "code",
      "execution_count": 15,
      "metadata": {
        "id": "5sKm5zHSMZ_x"
      },
      "outputs": [],
      "source": [
        "# Import metrics\n",
        "from sklearn.metrics import accuracy_score, precision_score, recall_score, f1_score"
      ]
    },
    {
      "cell_type": "code",
      "execution_count": 16,
      "metadata": {
        "id": "I3_9wgDREUna"
      },
      "outputs": [
        {
          "name": "stdout",
          "output_type": "stream",
          "text": [
            "Accuracy: 0.7364\n",
            "Precision: 0.7384400633602641\n",
            "Recall: 0.7363999999999999\n",
            "F1: 0.733256974947347\n"
          ]
        }
      ],
      "source": [
        "# Calculate metrics\n",
        "accuracy = accuracy_score(Y_test_dense, preds)\n",
        "precision = precision_score(Y_test_dense, preds, average='macro')\n",
        "recall = recall_score(Y_test_dense, preds, average='macro')\n",
        "f1 = f1_score(Y_test_dense, preds, average='macro')\n",
        "print(\"Accuracy:\", accuracy)\n",
        "print(\"Precision:\", precision)\n",
        "print(\"Recall:\", recall)\n",
        "print(\"F1:\", f1)"
      ]
    },
    {
      "cell_type": "markdown",
      "metadata": {
        "id": "ECHguBFtGL7f"
      },
      "source": [
        "\n",
        "## 3.2. Exercise: Confusion matrix\n",
        "Calculate the confusion matrix and display the results in a heatmap (with decimal values).\n",
        "\n",
        "Hints:\n",
        "* you have to do the imports this time too, e.g. from [sklearn.metrics](https://scikit-learn.org/stable/modules/model_evaluation.html) and the [heatmap function](https://seaborn.pydata.org/generated/seaborn.heatmap.html) of [seaborn](https://seaborn.pydata.org/)\n",
        "* for displaying the decimal values, you have to turn annot=True and define fmt='d' in the heatmap function of seaborn"
      ]
    },
    {
      "cell_type": "code",
      "execution_count": 17,
      "metadata": {
        "id": "SIi2VzMBO3yD"
      },
      "outputs": [],
      "source": [
        "from sklearn.metrics import confusion_matrix\n",
        "import seaborn as sns"
      ]
    },
    {
      "cell_type": "code",
      "execution_count": 18,
      "metadata": {
        "id": "cdqODx92Svw7"
      },
      "outputs": [
        {
          "data": {
            "image/png": "[encoded data removed]",
            "text/plain": [
              "<Figure size 700x600 with 2 Axes>"
            ]
          },
          "metadata": {},
          "output_type": "display_data"
        }
      ],
      "source": [
        "# Confusion matrix\n",
        "conf = confusion_matrix(Y_test_dense, preds)\n",
        "plt.figure(figsize=(7,6))\n",
        "sns.heatmap(conf, annot=True, fmt='d', cmap='Blues')\n",
        "plt.xlabel('Predicted Labels')\n",
        "plt.ylabel('True Labels')\n",
        "plt.title('Confusion Matrix')\n",
        "plt.show()"
      ]
    }
  ],
  "metadata": {
    "accelerator": "GPU",
    "anaconda-cloud": {},
    "colab": {
      "provenance": []
    },
    "kernelspec": {
      "display_name": "Python 3",
      "language": "python",
      "name": "python3"
    },
    "language_info": {
      "codemirror_mode": {
        "name": "ipython",
        "version": 3
      },
      "file_extension": ".py",
      "mimetype": "text/x-python",
      "name": "python",
      "nbconvert_exporter": "python",
      "pygments_lexer": "ipython3",
      "version": "3.11.4"
    }
  },
  "nbformat": 4,
  "nbformat_minor": 0
}
